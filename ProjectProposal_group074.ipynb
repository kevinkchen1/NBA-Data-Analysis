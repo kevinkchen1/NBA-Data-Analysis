{
 "cells": [
  {
   "cell_type": "markdown",
   "metadata": {},
   "source": [
    "# COGS 108 - Project Proposal"
   ]
  },
  {
   "cell_type": "markdown",
   "metadata": {},
   "source": [
    "# Names\n",
    "\n",
    "- Joshua Tan\n",
    "- Eric Chen\n",
    "- Kevin Chen\n",
    "- Prashant Potluri\n",
    "- Parna Praveen"
   ]
  },
  {
   "cell_type": "markdown",
   "metadata": {},
   "source": [
    "# Research Question"
   ]
  },
  {
   "cell_type": "markdown",
   "metadata": {},
   "source": [
    "<!--\n",
    " -  Include a specific, clear data science question.\n",
    " -  Make sure what you're measuring (variables) to answer the question is clear\n",
    " \n",
    "What is your research question? Include the specific question you're setting out to answer. This question should be specific, answerable with data, and clear. A general question with specific subquestions is permitted. (1-2 sentences)\n",
    "-->\n",
    "How does are NBA team's overall metrics such as field goal percentages, turnovers, and rebounds related and how they potentially change over time and what effects does this difference have on an NBA team winning the championships if any?\n"
   ]
  },
  {
   "cell_type": "markdown",
   "metadata": {},
   "source": [
    "## Background and Prior Work"
   ]
  },
  {
   "cell_type": "markdown",
   "metadata": {},
   "source": [
    "The National Basketball Association or NBA for short is a professional basketball league which was established in the United States in the year of 1949 after a merger of two rival basketball associations. Since then, the NBA has grown significantly and is a major professional sporting league in the United States. The current NBA consists of three divisions with 30 teams in total split across two conferences and three divisions. Every season of the NBA, there is a championship held where the most successful teams from each conference play against each other (1).\n",
    "\n",
    "Let us first lay down some basketball definitions which are important for understanding our question and the subsequent work:\n",
    "* Field-goal: A field goal is a point scored by ordinarily playing the game which can be worth either 2 or 3 points depending on distance.\n",
    "* Field-goal percentage: This is the percentage of successful field goals made by a team out of the total attempted field goals.\n",
    "* Three-point shooting percentage: This is the total number of successful three-point field goals made by a team out of the total attempted three-point field goals.\n",
    "* Free-throw: A free-throw or foul shot is an unopposed shot worth 1 point taken at an area on the basketball court known as the free-throw line and is generally given to players who have been fouled by the opposing team similar to how penalty shots work in other sports.\n",
    "* Free-throw shooting percentage: This is the number of successful free-throws over the number of total free-throws taken.\n",
    "* Rebound: This is when the ball is recoverred from a missed field goal or free throw.\n",
    "* Defensive rebound: This is the number of total rebounds made when in the defending team's half of the basketball court.\n",
    "* Offensive rebound: This is the number of total rebounds made when in the attacking/opponent's half of the basketball court.\n",
    "* Assists: This statistic is the number of immediate passes made which led to the a successful field goal.\n",
    "* Turnovers: These are the number of times a team loses possession of the ball without attempting a field goal.\n",
    "* Relative Annual Score: There may be a noticeable/significant difference among factors that contribute to victory from year to year.\n",
    "\n",
    "The first paper written by Rhonda Magel and Samuel Unruh in 2013 primarily focuses on the NCAA or college-level basketball. This study identified four main factors which contributed the most to a team winning a game. These four attributes were differences in assists, differences in free-throw attempts, differences between defensive rebounds, and differences between turnovers. Amongst these four statistics, the study found that the turnovers were the most important in determining whether a team would win a game. This was determined by utilizing statistical methods such as logistic and least squares regression in order to analyze the data. Overall, this source demonstrates that there are indeed factors which contribute to a team winning or losing a basketball game; however, this source focuses on the NCAA and not the NBA (2).\n",
    "\n",
    "The second paper written by Eric Scot Jones instead focuses on the NBA and has seven key statistics which are used for determining the outcome of NBA games including the following: including field-goal shooting percentage, three-point shooting percentage, free-throw shooting percentage, offensive rebounds, assists, turnovers, and free-throws attempted. These statistics were then analyzed for predicting point spreads and determining the probability of a certain NBA team from winning a game. Said modoels exhibited high accuracy and had a 88% to 94% success rate when applied to games from the 2011-2012 season (3).\n",
    "\n",
    "In total, both sources present numerous statistics for each basketball team and highlight factors which were deemed important for allowing teams to win. We can utilize both of these sources to further construct a well-defined research question.\n",
    "\n",
    "A worry that we might need to address is the potential difference in these factors from year to year. For example one year might have championship victory with a team that has a higher value in one factor compared to another year, say Three-point shooting percentage. This might just be because every team improved on their 3 pointers that year and the championship winner's actually have quite an average Three-point percentage, but won because their Free-throw shooting percentage was just better compared to the rest of their year. Basically if the difference between years are significant it may be better to look at how much better the championship team was compared to the rest of the teams that year rather than hard numbers without context.\n",
    "\n",
    "Works Cited:\n",
    "1. <a name=\"cite_note-1\"></a> [^](#cite_ref-1) The Editors of Encyclopedia Britannica. \"National Basketball Association\" Britannica, 13 Mar. 2024, https://www.britannica.com/topic/National-Basketball-Association\n",
    "\n",
    "2. <a name=\"cite_note-2\"></a> [^](#cite_ref-2) Magel, Rhonda, and Samuel Unruh. “Determining Factors Influencing the Outcome of College Basketball Games.” SCIRP Open Access, Scientific Research Publishing, 16 Aug. 2013, https://www.scirp.org/html/2-1240217_35927.htm\n",
    "\n",
    "\n",
    "3. <a name=\"cite_note-3\"></a> [^](#cite_ref-3) Jones, Eric Scot. “Predicting Outcomes of NBA Basketball Games.” Predicting Outcomes of NBA Basketball Games, North Dakota State University, 1 Jan. 1970, https://library.ndsu.edu/ir/bitstream/handle/10365/28084/Predicting%20Outcomes%20of%20NBA%20Basketball%20Games.pdf?sequence=1&isAllowed=y. "
   ]
  },
  {
   "cell_type": "markdown",
   "metadata": {},
   "source": [
    "# Hypothesis\n"
   ]
  },
  {
   "cell_type": "markdown",
   "metadata": {},
   "source": [
    "<!--\n",
    "- Include your team's hypothesis\n",
    "- Ensure that this hypothesis is clear to readers\n",
    "- Explain why you think this will be the outcome (what was your thinking?)\n",
    "\n",
    "What is your main hypothesis/predictions about what the answer to your question is? Briefly explain your thinking. (2-3 sentences)\n",
    "-->\n",
    "Our hypothesis is that based on the performance of NBA teams from the years 2018 to 2023, the most important factor in determining whether a team wins the NBA championships is the field goal percentage. We believe that this is the case as it most likely contributes the most amount of points and allows a team to win by outscoring their adversaries. A high field goal percentage would indicate that the team is efficient at scoring and can score more points when given the opportunity to.\n",
    "<!--\n",
    "Our hypothesis for our question is that from 2018-2023, field goal percentage is the most important factor when deciding whether an NBA team wins the NBA championships. We believe that field goal percentage has the greatest impact on winning the championship because it significantly affects a team's ability to outscore the opponent. A high field goal percentage indicates efficient scoring, meaning more points scored. A high field goal percentage also shows that a team is maximizing their scoring opportunities as they are gaining points when given the opportunity to be on offense and take shots.\n",
    "-->"
   ]
  },
  {
   "cell_type": "markdown",
   "metadata": {},
   "source": [
    "# Data"
   ]
  },
  {
   "cell_type": "markdown",
   "metadata": {},
   "source": [
    "<!--\n",
    "1. Explain what the **ideal** dataset you would want to answer this question. (This should include: What variables? How many observations? Who/what/how would these data be collected? How would these data be stored/organized?)\n",
    "1. Search for potential **real** datasets that could provide you with something useful for this project.  You do not have to find every piece of data you will use, but you do need to have demonstrated some idea that (a) this data is gettable and (b) that this data may be different from what your ideal is.\n",
    "-->\n",
    "\n",
    "The ideal dataset would contain the history of teams and their statistics. Our group would need the statistical data for every game's results throughout the NAB seasons beginning from 2018 to 2023 for all teams within the league. This numerical data would need to be correct and unaltered. The dataset would need to be large enough to not only include the outcome and score of the game, but also the statistics for different factors we want to analyze such as field goal percentages, rebounds, and turnovers. In the event that the data is incomplete, the ideal dataset would consist of multiple sources which can be aggregated to create the ideal dataset. This data can be easily obtained directly from the NBA game summary reports and sports industry  companies such as ESPN and or the Bleacher report as they track and record data for every single game that is played.\n",
    "\n",
    "One very real dataset is from the following link: https://www.kaggle.com/datasets/vivovinco/2023-2024-nba-player-stats/data?select=2023-2024+NBA+Player+Stats+-+Regular.csv\n",
    "\n",
    "This site contains statistics within the NBA from 1946 (before it was called the NBA) until present day. The site includes numerous statistics regarding both players and teams within the NBA such as variables for player statistics include points per game (PPG), assists per game (APG), rebounds per game (RPG), and field goal percentage (FG%). Team statistics variables include team wins, team losses, and average team score per game. The website also includes team and game statistics including date, opponent, result (Win/Loss), points scored, and points allowed. \n",
    "The site includes information for all 30 teams within the NBA and all 82 games which are played. We will collect all the data relating to a team's statistics which would include their wins and loss, and their player statistics per game. \n",
    "\n",
    "Some potential limitations from this dataset is that earlier years may not be as comprehensive due to poor recordkeeping or different standardization. Another potential obstacle would be that the data may not be formatted in a manner which is computer-friendly for analysis. This information will be collected within tabular data and stored as semi-structured data (most likely a csv) to be further analyzed."
   ]
  },
  {
   "cell_type": "markdown",
   "metadata": {},
   "source": [
    "# Ethics & Privacy"
   ]
  },
  {
   "cell_type": "markdown",
   "metadata": {},
   "source": [
    "<!--\n",
    "- Thoughtful discussion of ethical concerns included\n",
    "- Ethical concerns consider the whole data science process (question asked, data collected, data being used, the bias in data, analysis, post-analysis, etc.)\n",
    "- How your group handled bias/ethical concerns clearly described\n",
    "\n",
    "Acknowledge and address any ethics & privacy related issues of your question(s), proposed dataset(s), and/or analyses. Use the information provided in lecture to guide your group discussion and thinking. If you need further guidance, check out [Deon's Ethics Checklist](http://deon.drivendata.org/#data-science-ethics-checklist). In particular:\n",
    "\n",
    "- Are there any biases/privacy/terms of use issues with the data you propsed?\n",
    "- Are there potential biases in your dataset(s), in terms of who it composes, and how it was collected, that may be problematic in terms of it allowing for equitable analysis? (For example, does your data exclude particular populations, or is it likely to reflect particular human biases in a way that could be a problem?)\n",
    "- How will you set out to detect these specific biases before, during, and after/when communicating your analysis?\n",
    "- Are there any other issues related to your topic area, data, and/or analyses that are potentially problematic in terms of data privacy and equitable impact?\n",
    "- How will you handle issues you identified?\n",
    "-->\n",
    "\n",
    "### Biases:\n",
    "* Team Bias: Team members for this project may have personal biases for or against certain players or teams and may falsely report data in order to alter the performance of players or teams. This can be avoided by simply ensuring that the raw statistics gathered from the sources are unaltered.\n",
    "\n",
    "* Sampling and Data Bias: When collecting data, we will remove sampling and data bias by simply collecting data for all teams and games and relevant seasons. The main issue is if the historical data from the NBA is inaccurate or out of date.\n",
    "\n",
    "### Ethics\n",
    "* Consent: We will not need to worry about having informed consent in this case since we are not surveying or collecting data from participants. Instead, all of the data was already publically available and online before even conducting the study. In addition, NBA players statistics are available for public viewing so consent becomes a non-issue.\n",
    "\n",
    "* Data Privacy/Ownership: Similar to how consent is handled, all information collected for this project was already publically available and thus, there is no need to worry about data privacy unless that a team or player reports that their data no longer wishes their data to be available anymore.\n",
    "\n",
    "* Algorithmic Bias/Discriminator: The results of the study may include discriminatory factors depending on other more human aspects of basketball such as fouls, rule changes, or discrimination against certain players. This can be resolved by further investigating the data and potentially introducing new features or altering/removing that part of the dataset entirely.\n",
    "\n",
    "* Transparency: All parts of this project will be transparent and public-facing. All steps used to obtain the final conclusion will be detailed and explained.\n",
    "\n",
    "* Unintended Consequences: Both individuals and teams could potentially use the results of this project for personal gain. For example, a team could utilize the conclusion of the project and try to maximize the factors which result in game victories or a sports better may utilize the project in attempt for financial gain. The only possible way for this is to emphasize that the project exists for finding important factors but that it may not be completely accurate as all players in the team play a significant role to their success."
   ]
  },
  {
   "cell_type": "markdown",
   "metadata": {},
   "source": [
    "# Team Expectations "
   ]
  },
  {
   "cell_type": "markdown",
   "metadata": {},
   "source": [
    "<!--\n",
    "Read over the [COGS108 Team Policies](https://github.com/COGS108/Projects/blob/master/COGS108_TeamPolicies.md) individually. Then, include your group’s expectations of one another for successful completion of your COGS108 project below. Discuss and agree on what all of your expectations are. Discuss how your team will communicate throughout the quarter and consider how you will communicate respectfully should conflicts arise. By including each member’s name above and by adding their name to the submission, you are indicating that you have read the COGS108 Team Policies, accept your team’s expectations below, and have every intention to fulfill them. These expectations are for your team’s use and benefit — they won’t be graded for their details.\n",
    "-->\n",
    "* Everyone must contribute equally when working on the project in a timely manner, whether it is performing analysis, gathering data or creating visualizations or any other tasks required for the completion of the project.\n",
    "* Everyone must be at least semi-aware of the state of the project and their responsibilities and obligations.\n",
    "* In case of issues/delays in the project team members should communicate with others in a timely matter so everyone can cover for each other."
   ]
  },
  {
   "cell_type": "markdown",
   "metadata": {},
   "source": [
    "# Project Timeline Proposal"
   ]
  },
  {
   "cell_type": "markdown",
   "metadata": {},
   "source": [
    "<!--\n",
    "Specify your team's specific project timeline. An example timeline has been provided. Changes the dates, times, names, and details to fit your group's plan.\n",
    "\n",
    "If you think you will need any special resources or training outside what we have covered in COGS 108 to solve your problem, then your proposal should state these clearly. For example, if you have selected a problem that involves implementing multiple neural networks, please state this so we can make sure you know what you’re doing and so we can point you to resources you will need to implement your project. Note that you are not required to use outside methods.\n",
    "-->\n",
    "| Meeting Date  | Meeting Time| Completed Before Meeting  | Discuss at Meeting |\n",
    "|---|---|---|---|\n",
    "| 5/03  |  1 PM | Read & Think about COGS 108 expectations; brainstorm topics/questions  | Determine best form of communication; Discuss and decide on final project topic; discuss hypothesis; begin background research | \n",
    "| 5/03  |  10 AM |  Do background research on topic | Discuss ideal dataset(s) and ethics; draft project proposal | \n",
    "| 5/03  | 10 AM  | Edit, finalize, and submit proposal; Search for datasets  | Discuss Wrangling and possible analytical approaches; Assign group members to lead each specific part   |\n",
    "| 5/10  | 6 PM  | Import & Wrangle Player and Team Data from 2021-2023 seasons ; EDA  | Review/Edit wrangling/EDA; Discuss Analysis Plan   |\n",
    "| 5/17  | 12 PM  | Finalize wrangling/EDA; Begin Analysis (Iron Man; Thor) | Discuss/edit Analysis; Complete project check-in |\n",
    "| 5/24  | 12 PM  | Complete analysis; Draft results/conclusion/discussion (Wasp)| Discuss/edit full project |\n",
    "| 5/31  | Before 11:59 PM  | NA | Turn in Final Project & Group Project Surveys |\n",
    "\n",
    "\n",
    "\n",
    "| Meeting Date  | Meeting Time| Completed Before Meeting  | Discuss at Meeting |\n",
    "|---|---|---|---|\n",
    "| 05/03  | 2pm | Read & Think about COGS 108 expectations; brainstorm topics/questions  | Determine best form of communication; Discuss and decide on final project topic; discuss hypothesis; begin background research | \n",
    "| 05/03  | 2pm | Do background research on topic | Discuss ideal dataset(s) and ethics; draft project proposal | \n",
    "| 05/03  | 2pm  | Edit, finalize, and submit proposal; Search for datasets  | Discuss Wrangling and possible analytical approaches; Assign group members to lead each specific part   |\n",
    "| 05/10  | 2pm  | Import & Wrangle Data | EDA | Review/Edit wrangling/EDA; Discuss Analysis Plan   |\n",
    "| 05/17  | 2pm  | Finalize wrangling/EDA; Begin Analysis | Discuss/edit Analysis; Complete project check-in |\n",
    "| 05/20  | 2pm  | Creation of potentially useful graphs | Which graphs we should check that could be useful for analysis |\n",
    "| 05/24  | 2pm  | Work on analysis; Draft results/conclusion/discussion | Discuss/edit full project |\n",
    "| 05/31  | 2pm  | Complete analysis; Finish results/conclusion/discussion | Discuss/edit full project |\n",
    "| 05/31  | 2pm  | Everything | Turn in Final Project & Group Project Surveys |"
   ]
  },
  {
   "cell_type": "markdown",
   "metadata": {},
   "source": []
  }
 ],
 "metadata": {
  "kernelspec": {
   "display_name": "Python 3.10.5 64-bit",
   "language": "python",
   "name": "python3"
  },
  "language_info": {
   "codemirror_mode": {
    "name": "ipython",
    "version": 3
   },
   "file_extension": ".py",
   "mimetype": "text/x-python",
   "name": "python",
   "nbconvert_exporter": "python",
   "pygments_lexer": "ipython3",
   "version": "3.10.5"
  },
  "vscode": {
   "interpreter": {
    "hash": "aee8b7b246df8f9039afb4144a1f6fd8d2ca17a180786b69acc140d282b71a49"
   }
  }
 },
 "nbformat": 4,
 "nbformat_minor": 2
}
