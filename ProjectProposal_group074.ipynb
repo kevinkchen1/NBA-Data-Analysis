{
 "cells": [
  {
   "cell_type": "markdown",
   "metadata": {},
   "source": [
    "# COGS 108 - Project Proposal"
   ]
  },
  {
   "cell_type": "markdown",
   "metadata": {},
   "source": [
    "# Names\n",
    "\n",
    "- Joshua Tan\n",
    "- Eric Chen\n",
    "- Kevin Chen\n",
    "- Prashant Potluri\n",
    "- Parna Praveen"
   ]
  },
  {
   "cell_type": "markdown",
   "metadata": {},
   "source": [
    "# Research Question"
   ]
  },
  {
   "cell_type": "markdown",
   "metadata": {},
   "source": [
    "<!--\n",
    " -  Include a specific, clear data science question.\n",
    " -  Make sure what you're measuring (variables) to answer the question is clear\n",
    " \n",
    "What is your research question? Include the specific question you're setting out to answer. This question should be specific, answerable with data, and clear. A general question with specific subquestions is permitted. (1-2 sentences)\n",
    "-->\n",
    "\n",
    "How does a NBA team's field goal percentages, turnovers, and rebounds relate to the chances of said team winning the NBA championships?\n",
    "\n"
   ]
  },
  {
   "cell_type": "markdown",
   "metadata": {},
   "source": [
    "## Background and Prior Work"
   ]
  },
  {
   "cell_type": "markdown",
   "metadata": {},
   "source": [
    "<!--\n",
    "- Include a general introduction to your topic\n",
    "- Include explanation of what work has been done previously\n",
    "- Include citations or links to previous work\n",
    "\n",
    "This section will present the background and context of your topic and question in a few paragraphs. Include a general introduction to your topic and then describe what information you currently know about the topic after doing your initial research. Include references to other projects who have asked similar questions or approached similar problems. Explain what others have learned in their projects.\n",
    "\n",
    "Find some relevant prior work, and reference those sources, summarizing what each did and what they learned. Even if you think you have a totally novel question, find the most similar prior work that you can and discuss how it relates to your project.\n",
    "\n",
    "References can be research publications, but they need not be. Blogs, GitHub repositories, company websites, etc., are all viable references if they are relevant to your project. It must be clear which information comes from which references. (2-3 paragraphs, including at least 2 references)\n",
    "\n",
    " **Use inline citation through HTML footnotes to specify which references support which statements** \n",
    "\n",
    "For example: After government genocide in the 20th century, real birds were replaced with surveillance drones designed to look just like birds.<a name=\"cite_ref-1\"></a>[<sup>1</sup>](#cite_note-1) Use a minimum of 2 or 3 citations, but we prefer more.<a name=\"cite_ref-2\"></a>[<sup>2</sup>](#cite_note-2) You need enough to fully explain and back up important facts. \n",
    "\n",
    "Note that if you click a footnote number in the paragraph above it will transport you to the proper entry in the footnotes list below.  And if you click the ^ in the footnote entry, it will return you to the place in the main text where the footnote is made.\n",
    "\n",
    "To understand the HTML here, `<a name=\"#...\"> </a>` is a tag that allows you produce a named reference for a given location.  Markdown has the construciton `[text with hyperlink](#named reference)` that will produce a clickable link that transports you the named reference.\n",
    "\n",
    "1. <a name=\"cite_note-1\"></a> [^](#cite_ref-1) Lorenz, T. (9 Dec 2021) Birds Aren’t Real, or Are They? Inside a Gen Z Conspiracy Theory. *The New York Times*. https://www.nytimes.com/2021/12/09/technology/birds-arent-real-gen-z-misinformation.html \n",
    "2. <a name=\"cite_note-2\"></a> [^](#cite_ref-2) Also refs should be important to the background, not some randomly chosen vaguely related stuff. Include a web link if possible in refs as above.\n",
    "-->"
   ]
  },
  {
   "cell_type": "markdown",
   "metadata": {
    "vscode": {
     "languageId": "plaintext"
    }
   },
   "source": [
    "Some definitions of factors that we might research with our question and their definitions include: \n",
    "\n",
    "* Field-goal shooting percentage: The percentage of field goals made by a team out of the total number of field goals attempted. \n",
    "* Three-point shooting percentage: The percentage of three-point field goals made by a team out of the total number of three-point field goals attempted. \n",
    "* Free-throw shooting percentage: The percentage of free throws made by a team out of the total number of free throws attempted. \n",
    "\n",
    "* Offensive rebounds: The number of rebounds made by a team in the opponent's half of the court. \n",
    "* Assists: The number of passes made by a team that lead to a successful field goal attempt by a teammate. \n",
    "Turnovers: The number of times a team loses possession of the ball without attempting a field goal. \n",
    "Free-throws attempted: The number of free throws attempted by a team.\n",
    "* Relative Annual Score: There may be a noticeable/significant difference among factors that contribute to victory from year to year.\n",
    "\n",
    "The first source, which focuses on college basketball, identifies four significant factors that contribute to victory in college basketball games. These factors include differences in assists, differences in free throw attempts, differences in defensive rebounds, and differences in turnovers. Among these, turnovers were found to have the most substantial effect on game outcomes, followed by defensive rebounds and assists. The study utilized statistical methods such as logistic and least squares regression to analyze the data. This source provided helpful information on college basketball and a general framework for our analysis of NBA games.\n",
    "\n",
    "The second source selected seven key statistics that significantly influence the outcome of NBA games, including field-goal shooting percentage, three-point shooting percentage, free-throw shooting percentage, offensive rebounds, assists, turnovers, and free-throws attempted. These statistics were used to develop models for predicting point spreads and estimating the probability of a specific NBA team winning. The models exhibited high accuracy, ranging from 88% to 94%, when applied to a sample of 50 NBA games from the 2011-2012 season.\n",
    "\n",
    "Combining insights from both sources, we can infer that in addition to the four factors identified in college basketball, metrics related to shooting accuracy (field-goal, three-point, and free-throw percentages) and offensive rebounds play essential roles in determining an NBA team's success. To address our research question, we will incorporate public data about NBA games and follow the statistics recorded based on each official game.\n",
    "\n",
    "A worry that we might need to address is the potential difference in these factors from year to year. For example one year might have championship victory with a team that has a higher value in one factor compared to another year, say Three-point shooting percentage. This might just be because every team improved on their 3 pointers that year and the championship winner's actually have quite an average Three-point percentage, but won because their Free-throw shooting percentage was just better compared to the rest of their year. Basically if the difference between years are significant it may be better to look at how much better the championship team was compared to the rest of the teams that year rather than hard numbers without context.\n",
    "\n",
    "Works Cited:\n",
    "1. <a name=\"cite_note-1\"></a> [^](#cite_ref-1) Magel, Rhonda, and Samuel Unruh. “Determining Factors Influencing the Outcome of College Basketball Games.” SCIRP Open Access, Scientific Research Publishing, 16 Aug. 2013, https://www.scirp.org/html/2-1240217_35927.htm\n",
    "\n",
    "\n",
    "2. <a name=\"cite_note-2\"></a> [^](#cite_ref-2) Jones, Eric Scot. “Predicting Outcomes of NBA Basketball Games.” Predicting Outcomes of NBA Basketball Games, North Dakota State University, 1 Jan. 1970, https://library.ndsu.edu/ir/bitstream/handle/10365/28084/Predicting%20Outcomes%20of%20NBA%20Basketball%20Games.pdf?sequence=1&isAllowed=y. \n",
    "\n",
    "\n"
   ]
  },
  {
   "cell_type": "markdown",
   "metadata": {},
   "source": [
    "# Hypothesis\n"
   ]
  },
  {
   "cell_type": "markdown",
   "metadata": {},
   "source": [
    "<!--\n",
    "- Include your team's hypothesis\n",
    "- Ensure that this hypothesis is clear to readers\n",
    "- Explain why you think this will be the outcome (what was your thinking?)\n",
    "\n",
    "What is your main hypothesis/predictions about what the answer to your question is? Briefly explain your thinking. (2-3 sentences)\n",
    "-->\n",
    "Our hypothesis is that based on the performance of NBA teams from the years 2018 to 2023, the most important factor in determining whether a team wins the NBA championships is the field goal percentage. We believe that this is the case as it most likely contributes the most amount of points and allows a team to win by outscoring their adversaries. A high field goal percentage would indicate that the team is efficient at scoring and can score more points when given the opportunity to.\n",
    "<!--\n",
    "Our hypothesis for our question is that from 2018-2023, field goal percentage is the most important factor when deciding whether an NBA team wins the NBA championships. We believe that field goal percentage has the greatest impact on winning the championship because it significantly affects a team's ability to outscore the opponent. A high field goal percentage indicates efficient scoring, meaning more points scored. A high field goal percentage also shows that a team is maximizing their scoring opportunities as they are gaining points when given the opportunity to be on offense and take shots.\n",
    "-->"
   ]
  },
  {
   "cell_type": "markdown",
   "metadata": {},
   "source": [
    "# Data"
   ]
  },
  {
   "cell_type": "markdown",
   "metadata": {},
   "source": [
    "<!--\n",
    "1. Explain what the **ideal** dataset you would want to answer this question. (This should include: What variables? How many observations? Who/what/how would these data be collected? How would these data be stored/organized?)\n",
    "1. Search for potential **real** datasets that could provide you with something useful for this project.  You do not have to find every piece of data you will use, but you do need to have demonstrated some idea that (a) this data is gettable and (b) that this data may be different from what your ideal is.\n",
    "-->\n",
    "\n",
    "Our ideal dataset would have a history of the statistics associated with different teams’ performance. Our group would need statistical data on game results throughout NBA seasons from 2018-2023 across all teams. The data won’t have bias because it will be sampled from the hundreds of games that are played in each season. The dataset would need to have a wide range of factors to analyze, including field goal percentage so we could test if these factors have a correlation with a team’s chances of winning. Other factors we need in the dataset include three point percentages, defensive performance and free throw percentages, as these are the most commonly measured game statistics when looking at which team performed better and won. These could be obtained from NBA game summary reports and sports industry companies such as ESPN and Bleacher Report, as they record and track data from each game that is played.\n",
    "\n",
    "Website Source: https://www.basketball-reference.com/leagues/\n",
    "\n",
    "This website contains all the statistics regarding player statistics and team statistics in the NBA. Variables for player statistics include points per game (PPG), assists per game (APG), rebounds per game (RPG), and field goal percentage (FG%). Team statistics variables include team wins, team losses, and average team score per game. The website also includes game details including date, opponent, result (Win/Loss), points scored, and points allowed. \n",
    "Other data include player efficiency rating (PER), and win shares.\n",
    "\n",
    "Data Collected on basketball reference span from the start of the NBA 1946 to the present. \n",
    "There’s 30 teams in 2023 and each NBA team plays 82 regular season games. \n",
    "\n",
    "Some limitations would be that some data from earlier years might not be as comprehensive due to lack of records and standardization compared to the most recent years and some advanced data are not calculated until the recent years and some data in the database might not be relevant to our question. Another obstacle is that some values are in percentages or categorical values which we will have to modify to numerical or machine-readable values in order to perform statistical analysis.\n",
    "\n",
    "We will collect all the data revolving around a team's stats which would include their wins and loss, and their player statistics per game. \n",
    "\n",
    "We are going to parse the dataset into a tabular format and perform statistical analysis by exporting the data into semi-structured data such as a .csv file to be further analyzed.\n",
    "<!--\n",
    "We are going to put the data set in Excel/Google Sheet and analyze which factor contributes the most to winning basketball games. \n",
    "-->"
   ]
  },
  {
   "cell_type": "markdown",
   "metadata": {},
   "source": [
    "# Ethics & Privacy"
   ]
  },
  {
   "cell_type": "markdown",
   "metadata": {},
   "source": [
    "<!--\n",
    "- Thoughtful discussion of ethical concerns included\n",
    "- Ethical concerns consider the whole data science process (question asked, data collected, data being used, the bias in data, analysis, post-analysis, etc.)\n",
    "- How your group handled bias/ethical concerns clearly described\n",
    "\n",
    "Acknowledge and address any ethics & privacy related issues of your question(s), proposed dataset(s), and/or analyses. Use the information provided in lecture to guide your group discussion and thinking. If you need further guidance, check out [Deon's Ethics Checklist](http://deon.drivendata.org/#data-science-ethics-checklist). In particular:\n",
    "\n",
    "- Are there any biases/privacy/terms of use issues with the data you propsed?\n",
    "- Are there potential biases in your dataset(s), in terms of who it composes, and how it was collected, that may be problematic in terms of it allowing for equitable analysis? (For example, does your data exclude particular populations, or is it likely to reflect particular human biases in a way that could be a problem?)\n",
    "- How will you set out to detect these specific biases before, during, and after/when communicating your analysis?\n",
    "- Are there any other issues related to your topic area, data, and/or analyses that are potentially problematic in terms of data privacy and equitable impact?\n",
    "- How will you handle issues you identified?\n",
    "-->\n",
    "\n",
    "### Biases:\n",
    "* Team Bias: Team members of the research group might have personal biases for or against certain teams or players. For example a research group might want to choose years that favor a certain team that they like which affects the outcome of our experiment as it favors that team’s playstyle. We're raising awareness to educate our team members about unconscious biases. This will involve role-playing exercises, where team members argue from perspectives opposite their own, fostering empathy and reducing personal biases. This can be further enforced by ensuring that other members of the team review and confirm the results in the project.\n",
    "\n",
    "* Sampling Bias: When collecting data, we will make sure to get sampling without biases, by analyzing data from all NBA teams throughout each season. This removes selective sampling, ensuring that no teams are left out. We also chose a set of intervals to sample from so that data collected from teams are not only specific to any favorite teams or players they might have for a certain season. Collecting data from all NBA teams in the most recent years means that all teams are factored in when answering our research question and that we are using the most recent historical data to give us accurate results.\n",
    "\n",
    "* Data Bias: Like mentioned in sampling bias, we will ensure that the data we collected is not biased as the data we are analyzing is across all NBA teams and not only specific to any favorite teams or players our group members might have. We also have limited data bias by getting historical data from the NBA website itself which is accurate and has up to date information on NBA game statistics from each year. This minimizes bias as we will be analyzing the actual game statistics that were recorded and not influenced by outside sources. \n",
    "\n",
    "### Ethics\n",
    "* Consent: We generally will not have to worry about informed consent, because we are not surveying and interviewing participants to obtain our data. Instead, all of this data is online and is open access, meaning that the data we are using has been approved for public usage. Also, NBA teams and players are aware that their game statistics are available online and can be seen by anyone, because the NBA is widely followed across the world. Therefore, we can use this public data to perform our analysis without worrying about consent. \n",
    "\n",
    "* Data Privacy/Ownership: As we are not collecting this data from participants, but instead using the data from a public source, we are not directly responsible for the NBA teams and player’s data. To ensure data privacy during our research process, we will make sure to stop using data in our analysis if a team or player ever announces that they don’t want their data publicly available online. \n",
    "\n",
    "* Algorithmic Bias / Discrimination: Our algorithm could potentially discriminate against other aspects of basketball like fouls, rule changes, players. We can fix this by introducing new features in the dataset and adjusting it to ensure for a more comprehensive study.\n",
    "\n",
    "* Transparency: Issues regarding transparency include the lack of clarity, or visibility in our statistical methods and analysis. How we can address this is by ensuring that our analysis is public for anyone to see. We can create a public-facing resource to detail all steps taken to reach the conclusion.\n",
    "\n",
    "### Post analysis\n",
    "\n",
    "* Unintended Consequences: Unintended consequences of our findings could be that teams might use the information to value themselves and it can also be used to value players. Our research can also change team play styles and coaching direction, to adapt for our findings. How we can address this is by emphasizing how we come up with our findings and emphasizing that players play a significant role in which team does better. \n",
    "\n",
    "* Continued Monitoring / Accountability: Statistics can potentially be updated as more and more games and seasons are played throughout the year. However, the intervals/years that we chose to take our data from is static/constant so monitoring is not an issue. To check for future biases we can include more features to account for and/or increase our sample size from 5 years to 10. "
   ]
  },
  {
   "cell_type": "markdown",
   "metadata": {},
   "source": [
    "# Team Expectations "
   ]
  },
  {
   "cell_type": "markdown",
   "metadata": {},
   "source": [
    "<!--\n",
    "Read over the [COGS108 Team Policies](https://github.com/COGS108/Projects/blob/master/COGS108_TeamPolicies.md) individually. Then, include your group’s expectations of one another for successful completion of your COGS108 project below. Discuss and agree on what all of your expectations are. Discuss how your team will communicate throughout the quarter and consider how you will communicate respectfully should conflicts arise. By including each member’s name above and by adding their name to the submission, you are indicating that you have read the COGS108 Team Policies, accept your team’s expectations below, and have every intention to fulfill them. These expectations are for your team’s use and benefit — they won’t be graded for their details.\n",
    "-->\n",
    "* Everyone must contribute equally when working on the project in a timely manner, whether it is performing analysis, gathering data or creating visualizations or any other tasks required for the completion of the project.\n",
    "* Everyone must be at least semi-aware of the state of the project and their responsibilities and obligations.\n",
    "* In case of issues/delays in the project team members should communicate with others in a timely matter so everyone can cover for each other."
   ]
  },
  {
   "cell_type": "markdown",
   "metadata": {},
   "source": [
    "# Project Timeline Proposal"
   ]
  },
  {
   "cell_type": "markdown",
   "metadata": {},
   "source": [
    "<!--\n",
    "Specify your team's specific project timeline. An example timeline has been provided. Changes the dates, times, names, and details to fit your group's plan.\n",
    "\n",
    "If you think you will need any special resources or training outside what we have covered in COGS 108 to solve your problem, then your proposal should state these clearly. For example, if you have selected a problem that involves implementing multiple neural networks, please state this so we can make sure you know what you’re doing and so we can point you to resources you will need to implement your project. Note that you are not required to use outside methods.\n",
    "-->\n",
    "\n",
    "# TODO\n",
    "\n",
    "| Meeting Date  | Meeting Time| Completed Before Meeting  | Discuss at Meeting |\n",
    "|---|---|---|---|\n",
    "| 05/03  |  1400 | Read & Think about COGS 108 expectations; brainstorm topics/questions  | Determine best form of communication; Discuss and decide on final project topic; discuss hypothesis; begin background research | \n",
    "| 05/03  |  1400 |  Do background research on topic | Discuss ideal dataset(s) and ethics; draft project proposal | \n",
    "| 05/03  | 1400  | Edit, finalize, and submit proposal; Search for datasets  | Discuss Wrangling and possible analytical approaches; Assign group members to lead each specific part   |\n",
    "| 05/10  | 1400  | Import & Wrangle Data (Ant Man); EDA (Hulk) | Review/Edit wrangling/EDA; Discuss Analysis Plan   |\n",
    "| 05/17  | 1400  | Finalize wrangling/EDA; Begin Analysis (Iron Man; Thor) | Discuss/edit Analysis; Complete project check-in |\n",
    "| 05/20  | 1400  | Creation of potentially useful graphs | Which graphs we should check that could be useful for analysis \n",
    "| 05/24  | 1400  | Work on analysis; Draft results/conclusion/discussion | Discuss/edit full project |\n",
    "| 05/31  | 1400  | Complete analysis; Finish results/conclusion/discussion | Discuss/edit full project |\n",
    "| 05/31  | 1400  | Everything | Turn in Final Project & Group Project Surveys |"
   ]
  }
 ],
 "metadata": {
  "kernelspec": {
   "display_name": "Python 3 (ipykernel)",
   "language": "python",
   "name": "python3"
  },
  "language_info": {
   "codemirror_mode": {
    "name": "ipython",
    "version": 3
   },
   "file_extension": ".py",
   "mimetype": "text/x-python",
   "name": "python",
   "nbconvert_exporter": "python",
   "pygments_lexer": "ipython3",
   "version": "3.11.5"
  }
 },
 "nbformat": 4,
 "nbformat_minor": 2
}
