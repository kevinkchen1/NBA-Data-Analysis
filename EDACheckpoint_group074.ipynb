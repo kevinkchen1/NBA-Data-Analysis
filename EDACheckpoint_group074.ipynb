{
 "cells": [
  {
   "cell_type": "markdown",
   "metadata": {},
   "source": [
    "**If you lost points on the last checkpoint you can get them back by responding to TA/IA feedback**  \n",
    "\n",
    "Update/change the relevant sections where you lost those points, make sure you respond on GitHub Issues to your TA/IA to call their attention to the changes you made here.\n",
    "\n",
    "Please update your Timeline... no battle plan survives contact with the enemy, so make sure we understand how your plans have changed."
   ]
  },
  {
   "cell_type": "markdown",
   "metadata": {},
   "source": [
    "# COGS 108 - EDA Checkpoint"
   ]
  },
  {
   "cell_type": "markdown",
   "metadata": {},
   "source": [
    "# Names\n",
    "\n",
    "- Joshua Tan\n",
    "- Eric Chen\n",
    "- Kevin Chen\n",
    "- Prashant Potluri\n",
    "- Parna Praveen"
   ]
  },
  {
   "cell_type": "markdown",
   "metadata": {},
   "source": [
    "# Research Question"
   ]
  },
  {
   "cell_type": "markdown",
   "metadata": {},
   "source": [
    "How are an NBA team's field goal percentages, turnovers, and rebounds related and how they potentially change over time and what effects does this difference have on an NBA team winning the championships if any?\n",
    "\n"
   ]
  },
  {
   "cell_type": "markdown",
   "metadata": {},
   "source": [
    "## Background and Prior Work"
   ]
  },
  {
   "cell_type": "markdown",
   "metadata": {},
   "source": [
    "The National Basketball Association or NBA for short is a professional basketball league which was established in the United States in the year of 1949 after a merger of two rival basketball associations. Since then, the NBA has grown significantly and is a major professional sporting league in the United States. The current NBA consists of three divisions with 30 teams in total split across two conferences and three divisions. Every season of the NBA, there is a championship held where the most successful teams from each conference play against each other (1).\n",
    "\n",
    "Let us first lay down some basketball definitions which are important for understanding our question and the subsequent work:\n",
    "* Field-goal: A field goal is a point scored by ordinarily playing the game which can be worth either 2 or 3 points depending on distance.\n",
    "* Field-goal percentage: This is the percentage of successful field goals made by a team out of the total attempted field goals.\n",
    "* Three-point shooting percentage: This is the total number of successful three-point field goals made by a team out of the total attempted three-point field goals.\n",
    "* Free-throw: A free-throw or foul shot is an unopposed shot worth 1 point taken at an area on the basketball court known as the free-throw line and is generally given to players who have been fouled by the opposing team similar to how penalty shots work in other sports.\n",
    "* Free-throw shooting percentage: This is the number of successful free-throws over the number of total free-throws taken.\n",
    "* Rebound: This is when the ball is recoverred from a missed field goal or free throw.\n",
    "* Defensive rebound: This is the number of total rebounds made when in the defending team's half of the basketball court.\n",
    "* Offensive rebound: This is the number of total rebounds made when in the attacking/opponent's half of the basketball court.\n",
    "* Assists: This statistic is the number of immediate passes made which led to the a successful field goal.\n",
    "* Turnovers: These are the number of times a team loses possession of the ball without attempting a field goal.\n",
    "* Relative Annual Score: There may be a noticeable/significant difference among factors that contribute to victory from year to year.\n",
    "\n",
    "The first paper written by Rhonda Magel and Samuel Unruh in 2013 primarily focuses on the NCAA or college-level basketball. This study identified four main factors which contributed the most to a team winning a game. These four attributes were differences in assists, differences in free-throw attempts, differences between defensive rebounds, and differences between turnovers. Amongst these four statistics, the study found that the turnovers were the most important in determining whether a team would win a game. This was determined by utilizing statistical methods such as logistic and least squares regression in order to analyze the data. Overall, this source demonstrates that there are indeed factors which contribute to a team winning or losing a basketball game; however, this source focuses on the NCAA and not the NBA (2).\n",
    "\n",
    "The second paper written by Eric Scot Jones instead focuses on the NBA and has seven key statistics which are used for determining the outcome of NBA games including the following: including field-goal shooting percentage, three-point shooting percentage, free-throw shooting percentage, offensive rebounds, assists, turnovers, and free-throws attempted. These statistics were then analyzed for predicting point spreads and determining the probability of a certain NBA team from winning a game. Said modoels exhibited high accuracy and had a 88% to 94% success rate when applied to games from the 2011-2012 season (3).\n",
    "\n",
    "In total, both sources present numerous statistics for each basketball team and highlight factors which were deemed important for allowing teams to win. We can utilize both of these sources to further construct a well-defined research question.\n",
    "\n",
    "A worry that we might need to address is the potential difference in these factors from year to year. For example one year might have championship victory with a team that has a higher value in one factor compared to another year, say Three-point shooting percentage. This might just be because every team improved on their 3 pointers that year and the championship winner's actually have quite an average Three-point percentage, but won because their Free-throw shooting percentage was just better compared to the rest of their year. Basically if the difference between years are significant it may be better to look at how much better the championship team was compared to the rest of the teams that year rather than hard numbers without context.\n",
    "\n",
    "Works Cited:\n",
    "1. <a name=\"cite_note-1\"></a> [^](#cite_ref-1) The Editors of Encyclopedia Britannica. \"National Basketball Association\" Britannica, 13 Mar. 2024, https://www.britannica.com/topic/National-Basketball-Association\n",
    "\n",
    "2. <a name=\"cite_note-2\"></a> [^](#cite_ref-2) Magel, Rhonda, and Samuel Unruh. “Determining Factors Influencing the Outcome of College Basketball Games.” SCIRP Open Access, Scientific Research Publishing, 16 Aug. 2013, https://www.scirp.org/html/2-1240217_35927.htm\n",
    "\n",
    "\n",
    "3. <a name=\"cite_note-3\"></a> [^](#cite_ref-3) Jones, Eric Scot. “Predicting Outcomes of NBA Basketball Games.” Predicting Outcomes of NBA Basketball Games, North Dakota State University, 1 Jan. 1970, https://library.ndsu.edu/ir/bitstream/handle/10365/28084/Predicting%20Outcomes%20of%20NBA%20Basketball%20Games.pdf?sequence=1&isAllowed=y. \n"
   ]
  },
  {
   "cell_type": "markdown",
   "metadata": {},
   "source": [
    "# Hypothesis\n"
   ]
  },
  {
   "cell_type": "markdown",
   "metadata": {},
   "source": [
    "While there may not be a singular metric which determines which team wins, we believe that as time progresses, the main contributing metric for whether a team wins the NBA championships being the field goal percentage metric because it would contribute the most to the points a team earns. In other words, we expect there to be a strong positive correlation between the field goal percentage and if a team wins the NBA championships. Furthermore, we also expect rebounds to play a significant role alongside field-goal percentages as having high statistics in both of these metrics would indicate that a team is good at gaining possession of the ball and efficient at scoring.\n",
    "We further believe that over time, overall metrics will increase due to external factors such as better infrastructure for practice in addition to more accessibility to find strong talent. "
   ]
  },
  {
   "cell_type": "markdown",
   "metadata": {},
   "source": [
    "# Data"
   ]
  },
  {
   "cell_type": "markdown",
   "metadata": {},
   "source": [
    "The ideal dataset would contain the history of teams and their statistics. Our group would need the statistical data for every game's results throughout the NAB seasons beginning from 2018 to 2023 for all teams within the league. This numerical data would need to be correct and unaltered. The dataset would need to be large enough to not only include the outcome and score of the game, but also the statistics for different factors we want to analyze such as field goal percentages, rebounds, and turnovers. In the event that the data is incomplete, the ideal dataset would consist of multiple sources which can be aggregated to create the ideal dataset. This data can be easily obtained directly from the NBA game summary reports and sports industry  companies such as ESPN and or the Bleacher report as they track and record data for every single game that is played.\n",
    "\n",
    "The two datasets are listed below: \n",
    "- https://www.basketball-reference.com/leagues/\n",
    "- https://www.kaggle.com/datasets/thedevastator/historical-nba-finals-and-mvp-results\n",
    "\n",
    "The first site (basketball-reference.com) contains statistics within the NBA from 1946 (before it was called the NBA) until present day. The site includes numerous statistics regarding both players and teams within the NBA such as variables for player statistics include points per game (PPG), assists per game (APG), rebounds per game (RPG), and field goal percentage (FG%). Team statistics variables include team wins, team losses, and average team score per game. The website also includes team and game statistics including date, opponent, result (Win/Loss), points scored, and points allowed. \n",
    "\n",
    "The second site from Kaggle contains important information on the Western Champion, the Eastern Champion, the winner and finalist of the NBA Championships, and the result of the matchup. These are all needed to conduct our data analysis, and this dataset contains information on each of these variables from 1950-2018. This dataset also lists the MVP name and statistics for each year, from 1950-2018. It also contains other miscellaneous variables unrelated to our analysis, such as the nationality, height, and position of the MVP. \n",
    "\n",
    "Some potential limitations from this dataset is that earlier years may not be as comprehensive due to poor recordkeeping or different standardization. Another potential obstacle would be that the data may not be formatted in a manner which is computer-friendly for analysis. This information will be collected within tabular data and stored as semi-structured data (most likely a csv) to be further analyzed.\n",
    "\n",
    "\n",
    "## Scraping\n",
    "In addition to retrieving datasets from kaggle, we were also able to directly scrape the data from the site basketball-reference.com with a python script detailed [here](./data/basketball_scrape.py)\n",
    "The following cell will retrieve data from specified year values and store them as numerous CSV files"
   ]
  },
  {
   "cell_type": "code",
   "execution_count": null,
   "metadata": {},
   "outputs": [],
   "source": [
    "from basketball_scrape import get_bb_data"
   ]
  },
  {
   "cell_type": "markdown",
   "metadata": {},
   "source": [
    "## Dataset #1 (use name instead of number here)"
   ]
  },
  {
   "cell_type": "code",
   "execution_count": null,
   "metadata": {},
   "outputs": [],
   "source": [
    "## YOUR CODE TO LOAD/CLEAN/TIDY/WRANGLE THE DATA GOES HERE\n",
    "## FEEL FREE TO ADD MULTIPLE CELLS PER SECTION "
   ]
  },
  {
   "cell_type": "markdown",
   "metadata": {},
   "source": [
    "## Dataset #2 (if you have more than one, use name instead of number here)"
   ]
  },
  {
   "cell_type": "code",
   "execution_count": null,
   "metadata": {},
   "outputs": [],
   "source": [
    "## YOUR CODE TO LOAD/CLEAN/TIDY/WRANGLE THE DATA GOES HERE\n",
    "## FEEL FREE TO ADD MULTIPLE CELLS PER SECTION "
   ]
  },
  {
   "cell_type": "markdown",
   "metadata": {},
   "source": [
    "# Results\n",
    "\n",
    "## Exploratory Data Analysis\n",
    "\n",
    "Carry out whatever EDA you need to for your project.  Because every project will be different we can't really give you much of a template at this point. But please make sure you describe the what and why in text here as well as providing interpretation of results and context."
   ]
  },
  {
   "cell_type": "markdown",
   "metadata": {},
   "source": [
    "### Section 1 of EDA - please give it a better title than this\n",
    "\n",
    "Some more words and stuff.  Remember notebooks work best if you interleave the code that generates a result with properly annotate figures and text that puts these results into context."
   ]
  },
  {
   "cell_type": "code",
   "execution_count": null,
   "metadata": {},
   "outputs": [],
   "source": [
    "## YOUR CODE HERE\n",
    "## FEEL FREE TO ADD MULTIPLE CELLS PER SECTION"
   ]
  },
  {
   "cell_type": "markdown",
   "metadata": {},
   "source": [
    "### Section 2 of EDA if you need it  - please give it a better title than this\n",
    "\n",
    "Some more words and stuff.  Remember notebooks work best if you interleave the code that generates a result with properly annotate figures and text that puts these results into context."
   ]
  },
  {
   "cell_type": "code",
   "execution_count": null,
   "metadata": {},
   "outputs": [],
   "source": [
    "## YOUR CODE HERE\n",
    "## FEEL FREE TO ADD MULTIPLE CELLS PER SECTION"
   ]
  },
  {
   "cell_type": "markdown",
   "metadata": {},
   "source": [
    "# Ethics & Privacy"
   ]
  },
  {
   "cell_type": "markdown",
   "metadata": {},
   "source": [
    "- Thoughtful discussion of ethical concerns included\n",
    "- Ethical concerns consider the whole data science process (question asked, data collected, data being used, the bias in data, analysis, post-analysis, etc.)\n",
    "- How your group handled bias/ethical concerns clearly described\n",
    "\n",
    "Acknowledge and address any ethics & privacy related issues of your question(s), proposed dataset(s), and/or analyses. Use the information provided in lecture to guide your group discussion and thinking. If you need further guidance, check out [Deon's Ethics Checklist](http://deon.drivendata.org/#data-science-ethics-checklist). In particular:\n",
    "\n",
    "- Are there any biases/privacy/terms of use issues with the data you propsed?\n",
    "- Are there potential biases in your dataset(s), in terms of who it composes, and how it was collected, that may be problematic in terms of it allowing for equitable analysis? (For example, does your data exclude particular populations, or is it likely to reflect particular human biases in a way that could be a problem?)\n",
    "- How will you set out to detect these specific biases before, during, and after/when communicating your analysis?\n",
    "- Are there any other issues related to your topic area, data, and/or analyses that are potentially problematic in terms of data privacy and equitable impact?\n",
    "- How will you handle issues you identified?"
   ]
  },
  {
   "cell_type": "markdown",
   "metadata": {},
   "source": [
    "# Team Expectations "
   ]
  },
  {
   "cell_type": "markdown",
   "metadata": {},
   "source": [
    "\n",
    "Read over the [COGS108 Team Policies](https://github.com/COGS108/Projects/blob/master/COGS108_TeamPolicies.md) individually. Then, include your group’s expectations of one another for successful completion of your COGS108 project below. Discuss and agree on what all of your expectations are. Discuss how your team will communicate throughout the quarter and consider how you will communicate respectfully should conflicts arise. By including each member’s name above and by adding their name to the submission, you are indicating that you have read the COGS108 Team Policies, accept your team’s expectations below, and have every intention to fulfill them. These expectations are for your team’s use and benefit — they won’t be graded for their details.\n",
    "\n",
    "* *Team Expectation 1*\n",
    "* *Team Expectation 2*\n",
    "* *Team Expecation 3*\n",
    "* ..."
   ]
  },
  {
   "cell_type": "markdown",
   "metadata": {},
   "source": [
    "# Project Timeline Proposal"
   ]
  },
  {
   "cell_type": "markdown",
   "metadata": {},
   "source": [
    "Specify your team's specific project timeline. An example timeline has been provided. Changes the dates, times, names, and details to fit your group's plan.\n",
    "\n",
    "If you think you will need any special resources or training outside what we have covered in COGS 108 to solve your problem, then your proposal should state these clearly. For example, if you have selected a problem that involves implementing multiple neural networks, please state this so we can make sure you know what you’re doing and so we can point you to resources you will need to implement your project. Note that you are not required to use outside methods.\n",
    "\n",
    "\n",
    "\n",
    "| Meeting Date  | Meeting Time| Completed Before Meeting  | Discuss at Meeting |\n",
    "|---|---|---|---|\n",
    "| 1/20  |  1 PM | Read & Think about COGS 108 expectations; brainstorm topics/questions  | Determine best form of communication; Discuss and decide on final project topic; discuss hypothesis; begin background research | \n",
    "| 1/26  |  10 AM |  Do background research on topic | Discuss ideal dataset(s) and ethics; draft project proposal | \n",
    "| 2/1  | 10 AM  | Edit, finalize, and submit proposal; Search for datasets  | Discuss Wrangling and possible analytical approaches; Assign group members to lead each specific part   |\n",
    "| 2/14  | 6 PM  | Import & Wrangle Data (Ant Man); EDA (Hulk) | Review/Edit wrangling/EDA; Discuss Analysis Plan   |\n",
    "| 2/23  | 12 PM  | Finalize wrangling/EDA; Begin Analysis (Iron Man; Thor) | Discuss/edit Analysis; Complete project check-in |\n",
    "| 3/13  | 12 PM  | Complete analysis; Draft results/conclusion/discussion (Wasp)| Discuss/edit full project |\n",
    "| 3/20  | Before 11:59 PM  | NA | Turn in Final Project & Group Project Surveys |"
   ]
  }
 ],
 "metadata": {
  "kernelspec": {
   "display_name": "Python 3 (ipykernel)",
   "language": "python",
   "name": "python3"
  },
  "language_info": {
   "codemirror_mode": {
    "name": "ipython",
    "version": 3
   },
   "file_extension": ".py",
   "mimetype": "text/x-python",
   "name": "python",
   "nbconvert_exporter": "python",
   "pygments_lexer": "ipython3",
   "version": "3.9.7"
  }
 },
 "nbformat": 4,
 "nbformat_minor": 2
}
